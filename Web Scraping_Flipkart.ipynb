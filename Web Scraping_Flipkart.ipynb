{
 "cells": [
  {
   "cell_type": "code",
   "execution_count": 1,
   "metadata": {},
   "outputs": [],
   "source": [
    "from bs4 import BeautifulSoup as soup\n",
    "from urllib.request import urlopen as uReq"
   ]
  },
  {
   "cell_type": "code",
   "execution_count": 2,
   "metadata": {},
   "outputs": [],
   "source": [
    "my_url = 'https://www.flipkart.com/search?q=iphone+&otracker=search&otracker1=search&marketplace=FLIPKART&as-show=on&as=off&sort=relevance'"
   ]
  },
  {
   "cell_type": "code",
   "execution_count": 3,
   "metadata": {},
   "outputs": [],
   "source": [
    "uClient = uReq(my_url)\n",
    "page_html = uClient.read()\n",
    "uClient.close()\n",
    "page_soup = soup(page_html, \"html.parser\")"
   ]
  },
  {
   "cell_type": "code",
   "execution_count": 4,
   "metadata": {},
   "outputs": [
    {
     "name": "stdout",
     "output_type": "stream",
     "text": [
      "40\n"
     ]
    }
   ],
   "source": [
    "containers = page_soup.findAll(\"div\", {\"class\": \"_3liAhj\"})\n",
    "print(len(containers))"
   ]
  },
  {
   "cell_type": "code",
   "execution_count": 5,
   "metadata": {},
   "outputs": [
    {
     "name": "stdout",
     "output_type": "stream",
     "text": [
      "<div class=\"_3liAhj\">\n",
      " <a class=\"Zhf2z-\" href=\"/apple-iphone-11-black-64-gb/p/itm0f37c2240b217?pid=MOBFKCTSVZAXUHGR&amp;lid=LSTMOBFKCTSVZAXUHGREPBFGI&amp;marketplace=FLIPKART&amp;srno=s_1_1&amp;otracker=search&amp;otracker1=search&amp;fm=organic&amp;iid=74cefb4f-ef06-4906-b1aa-40b406666f86.MOBFKCTSVZAXUHGR.SEARCH&amp;ssid=pnzczggrio0000001594573977620&amp;qH=4673a7c42221208f\" rel=\"noopener noreferrer\" target=\"_blank\">\n",
      "  <div>\n",
      "   <div>\n",
      "    <div class=\"_3BTv9X\" style=\"height:280px;width:200px\">\n",
      "     <img alt=\"Apple iPhone 11 (Black, 64 GB)\" class=\"_1Nyybr\" src=\"//img1a.flixcart.com/www/linchpin/fk-cp-zion/img/placeholder_9951d0.svg\"/>\n",
      "    </div>\n",
      "   </div>\n",
      "  </div>\n",
      "  <div class=\"_3gDSOa _3iGnbq\">\n",
      "   <div class=\"DsQ2eg\">\n",
      "    <svg class=\"_2oLiqr\" height=\"16\" viewbox=\"0 0 20 16\" width=\"16\" xmlns=\"http://www.w3.org/2000/svg\">\n",
      "     <path class=\"_35Y7Yo\" d=\"M8.695 16.682C4.06 12.382 1 9.536 1 6.065 1 3.219 3.178 1 5.95 1c1.566 0 3.069.746 4.05 1.915C10.981 1.745 12.484 1 14.05 1 16.822 1 19 3.22 19 6.065c0 3.471-3.06 6.316-7.695 10.617L10 17.897l-1.305-1.215z\" fill=\"#2874F0\" fill-rule=\"evenodd\" opacity=\".9\" stroke=\"#FFF\">\n",
      "     </path>\n",
      "    </svg>\n",
      "   </div>\n",
      "  </div>\n",
      " </a>\n",
      " <a class=\"_2cLu-l\" href=\"/apple-iphone-11-black-64-gb/p/itm0f37c2240b217?pid=MOBFKCTSVZAXUHGR&amp;lid=LSTMOBFKCTSVZAXUHGREPBFGI&amp;marketplace=FLIPKART&amp;srno=s_1_1&amp;otracker=search&amp;otracker1=search&amp;fm=organic&amp;iid=74cefb4f-ef06-4906-b1aa-40b406666f86.MOBFKCTSVZAXUHGR.SEARCH&amp;ssid=pnzczggrio0000001594573977620&amp;qH=4673a7c42221208f\" rel=\"noopener noreferrer\" target=\"_blank\" title=\"Apple iPhone 11 (Black, 64 GB)\">\n",
      "  Apple iPhone 11 (Black, 64 GB)\n",
      " </a>\n",
      " <div class=\"niH0FQ _36Fcw_\">\n",
      "  <span class=\"_2_KrJI\" id=\"productRating_LSTMOBFKCTSVZAXUHGREPBFGI_MOBFKCTSVZAXUHGR_\">\n",
      "   <div class=\"hGSR34\">\n",
      "    4.7\n",
      "    <img class=\"_2lQ_WZ\" src=\"data:image/svg+xml;base64,PHN2ZyB4bWxucz0iaHR0cDovL3d3dy53My5vcmcvMjAwMC9zdmciIHdpZHRoPSIxMyIgaGVpZ2h0PSIxMiI+PHBhdGggZmlsbD0iI0ZGRiIgZD0iTTYuNSA5LjQzOWwtMy42NzQgMi4yMy45NC00LjI2LTMuMjEtMi44ODMgNC4yNTQtLjQwNEw2LjUuMTEybDEuNjkgNC4wMSA0LjI1NC40MDQtMy4yMSAyLjg4Mi45NCA0LjI2eiIvPjwvc3ZnPg==\"/>\n",
      "   </div>\n",
      "  </span>\n",
      "  <span class=\"_38sUEc\">\n",
      "   (15,559)\n",
      "  </span>\n",
      " </div>\n",
      " <div class=\"_3LWrw9\">\n",
      "  <img height=\"21\" src=\"//img1a.flixcart.com/www/linchpin/fk-cp-zion/img/fa_8b4b59.png\"/>\n",
      " </div>\n",
      " <a class=\"_1Vfi6u\" href=\"/apple-iphone-11-black-64-gb/p/itm0f37c2240b217?pid=MOBFKCTSVZAXUHGR&amp;lid=LSTMOBFKCTSVZAXUHGREPBFGI&amp;marketplace=FLIPKART&amp;srno=s_1_1&amp;otracker=search&amp;otracker1=search&amp;fm=organic&amp;iid=74cefb4f-ef06-4906-b1aa-40b406666f86.MOBFKCTSVZAXUHGR.SEARCH&amp;ssid=pnzczggrio0000001594573977620&amp;qH=4673a7c42221208f\" rel=\"noopener noreferrer\" target=\"_blank\">\n",
      "  <div class=\"_1uv9Cb\">\n",
      "   <div class=\"_1vC4OE\">\n",
      "    ₹68,300\n",
      "   </div>\n",
      "  </div>\n",
      " </a>\n",
      " <div class=\"_2nE8_R\">\n",
      "  <div class=\"_3_G5Wj\" style=\"color:#000000;font-size:14px;font-family:inherit;font-weight:normal\">\n",
      "   Upto\n",
      "  </div>\n",
      "  <div class=\"_3_G5Wj\" style=\"color:#000000;font-size:14px;font-family:inherit;font-weight:bold\">\n",
      "   ₹13,950\n",
      "  </div>\n",
      "  <div class=\"_3_G5Wj\" style=\"color:#000000;font-size:14px;font-family:inherit;font-weight:normal\">\n",
      "   Off on Exchange\n",
      "  </div>\n",
      " </div>\n",
      " <div class=\"_3ighFh\">\n",
      "  <div class=\"_34CFgI\">\n",
      "   <div class=\"_1O_CiZ\">\n",
      "    <span class=\"_1iHA1p\">\n",
      "     <div class=\"_2kFyHg\">\n",
      "      <label>\n",
      "       <input class=\"_3uUUD5\" readonly=\"\" type=\"checkbox\"/>\n",
      "       <div class=\"_1p7h2j\">\n",
      "       </div>\n",
      "      </label>\n",
      "     </div>\n",
      "    </span>\n",
      "    <label class=\"_10TB-Q\">\n",
      "     <span>\n",
      "      Add to Compare\n",
      "     </span>\n",
      "    </label>\n",
      "   </div>\n",
      "  </div>\n",
      " </div>\n",
      "</div>\n"
     ]
    }
   ],
   "source": [
    "print(soup.prettify(containers[0]))"
   ]
  },
  {
   "cell_type": "code",
   "execution_count": 6,
   "metadata": {},
   "outputs": [
    {
     "name": "stdout",
     "output_type": "stream",
     "text": [
      "Apple iPhone 11 (Black, 64 GB)\n"
     ]
    }
   ],
   "source": [
    "container = containers[0]\n",
    "print(container.div.img[\"alt\"])"
   ]
  },
  {
   "cell_type": "code",
   "execution_count": 7,
   "metadata": {},
   "outputs": [
    {
     "name": "stdout",
     "output_type": "stream",
     "text": [
      "₹68,300\n"
     ]
    }
   ],
   "source": [
    "price = container.findAll(\"div\", {\"class\":\"_1uv9Cb\"})\n",
    "print(price[0].text)"
   ]
  },
  {
   "cell_type": "code",
   "execution_count": 8,
   "metadata": {},
   "outputs": [
    {
     "name": "stdout",
     "output_type": "stream",
     "text": [
      "4.7(15,559)\n"
     ]
    }
   ],
   "source": [
    "ratings = container.findAll(\"div\", {\"class\":\"niH0FQ _36Fcw_\"})\n",
    "print(ratings[0].text)"
   ]
  },
  {
   "cell_type": "code",
   "execution_count": 9,
   "metadata": {},
   "outputs": [],
   "source": [
    "filename = \"Flipkart_scrape.csv\"\n",
    "f = open(filename, \"w\")"
   ]
  },
  {
   "cell_type": "code",
   "execution_count": 10,
   "metadata": {},
   "outputs": [
    {
     "data": {
      "text/plain": [
       "31"
      ]
     },
     "execution_count": 10,
     "metadata": {},
     "output_type": "execute_result"
    }
   ],
   "source": [
    "headers = \"Product Name, Pricing, Ratings\\n\"\n",
    "f.write(headers)"
   ]
  },
  {
   "cell_type": "code",
   "execution_count": 11,
   "metadata": {},
   "outputs": [
    {
     "name": "stdout",
     "output_type": "stream",
     "text": [
      "Apple iPhone 11 (Black| 64 GB),Rs.68300,4.7(15,559)\n",
      "\n",
      "Apple iPhone SE (Black| 64 GB),Rs.42500,4.5(10,103)\n",
      "\n",
      "Apple iPhone 11 (White| 64 GB),Rs.68300,4.7(15,559)\n",
      "\n",
      "Apple iPhone 7 (Black| 32 GB),Rs.29499,4.5(90,350)\n",
      "\n",
      "Apple iPhone SE (White| 64 GB),Rs.42500,4.5(10,103)\n",
      "\n",
      "Apple iPhone SE (Red| 64 GB),Rs.42500,4.5(10,103)\n",
      "\n",
      "Apple iPhone 11 (Green| 64 GB),Rs.68300,4.7(15,559)\n",
      "\n",
      "Apple iPhone SE (Black| 128 GB),Rs.47800,4.5(10,103)\n",
      "\n",
      "Apple iPhone 11 (Black| 128 GB),Rs.73600,4.7(15,559)\n",
      "\n",
      "Apple iPhone 11 (White| 128 GB),Rs.73600,4.7(15,559)\n",
      "\n",
      "Apple iPhone 11 (Green| 128 GB),Rs.73600,4.7(15,559)\n",
      "\n",
      "Flipkart SmartBuy Tempered Glass Guard for Apple iPhone SE| Apple iPhone SE 2020,Rs.179,3.4(412)\n",
      "\n",
      "Apple iPhone 11 (Purple| 128 GB),Rs.73600,4.7(15,559)\n",
      "\n",
      "Apple iPhone SE (White| 128 GB),Rs.47800,4.5(10,103)\n",
      "\n",
      "Apple iPhone XR (Coral| 64 GB),Rs.52500,4.6(10,488)\n",
      "\n",
      "Apple iPhone SE (Red| 128 GB),Rs.47800,4.5(10,103)\n",
      "\n",
      "Apple iPhone 11 (Purple| 64 GB),Rs.68300,4.7(15,559)\n",
      "\n",
      "Apple iPhone 7 Plus (Black| 32 GB),Rs.36999,4.5(26,869)\n",
      "\n",
      "Apple iPhone 11 (Red| 128 GB),Rs.73600,4.7(15,559)\n",
      "\n",
      "Apple iPhone XR (Blue| 128 GB),Rs.57800,4.6(10,488)\n",
      "\n",
      "Apple iPhone XR (Black| 128 GB),Rs.57800,4.6(10,488)\n",
      "\n",
      "Apple iPhone 11 (Red| 64 GB),Rs.68300,4.7(15,559)\n",
      "\n",
      "Apple iPhone XS (Space Grey| 64 GB),Rs.62999,4.7(10,716)\n",
      "\n",
      "Apple iPhone 6s (Space Grey| 32 GB),Rs.29900,4.5(91,998)\n",
      "\n",
      "Apple iPhone 11 Pro (Space Grey| 256 GB),Rs.121300,4.7(1,401)\n",
      "\n",
      "Apple iPhone 11 Pro (Midnight Green| 256 GB),Rs.121300,4.7(1,401)\n",
      "\n",
      "Apple iPhone 11 Pro Max (Space Grey| 64 GB),Rs.117100,4.7(950)\n",
      "\n",
      "Apple iPhone 11 Pro (Gold| 64 GB),Rs.106600,4.7(1,401)\n",
      "\n",
      "Apple iPhone 11 Pro Max (Gold| 64 GB),Rs.117100,4.7(950)\n",
      "\n",
      "Apple iPhone 11 Pro (Midnight Green| 64 GB),Rs.106600,4.7(1,401)\n",
      "\n",
      "Apple iPhone 11 Pro (Silver| 256 GB),Rs.121300,4.7(1,401)\n",
      "\n",
      "Apple iPhone 11 Pro (Silver| 64 GB),Rs.106600,4.7(1,401)\n",
      "\n",
      "Apple iPhone 11 Pro Max (Silver| 64 GB),Rs.117100,4.7(950)\n",
      "\n",
      "FIRST IMPRESSION Front and Back Tempered Glass for Apple iPhone 7 Plus,Rs.199,4.1(14)\n",
      "\n",
      "Apple iPhone 8 (PRODUCT)RED (Red| 256 GB),Rs.56999,4.7(111)\n",
      "\n",
      "Apple iPhone 8 Plus (PRODUCT)RED (Red| 64 GB),Rs.52990,4.6(218)\n",
      "\n",
      "Apple iPhone 7 (Gold| 32 GB),Rs.39899,4.5(90,350)\n",
      "\n",
      "Apple iPhone 11 Pro Max (Midnight Green| 64 GB),Rs.117100,4.7(950)\n",
      "\n",
      "Apple iPhone 11 Pro (Space Grey| 64 GB),Rs.106600,4.7(1,401)\n",
      "\n",
      "Apple iPhone 8 Plus (Space Grey| 64 GB),Rs.52990,4.6(3,334)\n",
      "\n"
     ]
    }
   ],
   "source": [
    "for container in containers:\n",
    "    product_name = container.div.img[\"alt\"]\n",
    "    \n",
    "    price_container = container.findAll(\"div\", {\"class\": \"_1uv9Cb\"})\n",
    "    price = price_container[0].text.strip()\n",
    "    \n",
    "    rating_container = container.findAll(\"div\", {\"class\": \"niH0FQ _36Fcw_\"})\n",
    "    rating = rating_container[0].text\n",
    "    \n",
    "    #print(\"Product_name:\" + product_name)\n",
    "    #print(\"Price:\" + price)\n",
    "    #print(\"Rating:\" + rating)\n",
    "\n",
    "\n",
    "    #string parsing\n",
    "    \n",
    "    trim_price = ''.join(price.split(','))\n",
    "    rm_rupee = trim_price.split(\"₹\")\n",
    "    add_rs_price = \"Rs.\" + rm_rupee[1]\n",
    "    split_price = add_rs_price.split('E')\n",
    "    final_price = split_price[0]\n",
    "    \n",
    "    split_rating = rating.split(\" \")\n",
    "    final_rating = split_rating[0]\n",
    "    \n",
    "    print(product_name.replace(\",\", \"|\") + \",\" + final_price + \",\" + final_rating + \"\\n\")\n",
    "    f.write(product_name.replace(\",\", \"|\") + \",\" + final_price + \",\" + final_rating + \"\\n\")\n",
    " \n",
    "f.close()"
   ]
  },
  {
   "cell_type": "code",
   "execution_count": null,
   "metadata": {},
   "outputs": [],
   "source": []
  },
  {
   "cell_type": "code",
   "execution_count": null,
   "metadata": {},
   "outputs": [],
   "source": []
  },
  {
   "cell_type": "code",
   "execution_count": null,
   "metadata": {},
   "outputs": [],
   "source": []
  }
 ],
 "metadata": {
  "kernelspec": {
   "display_name": "Python 3",
   "language": "python",
   "name": "python3"
  },
  "language_info": {
   "codemirror_mode": {
    "name": "ipython",
    "version": 3
   },
   "file_extension": ".py",
   "mimetype": "text/x-python",
   "name": "python",
   "nbconvert_exporter": "python",
   "pygments_lexer": "ipython3",
   "version": "3.7.4"
  }
 },
 "nbformat": 4,
 "nbformat_minor": 2
}
